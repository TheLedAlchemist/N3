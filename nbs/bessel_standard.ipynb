{
 "cells": [
  {
   "cell_type": "code",
   "execution_count": 14,
   "metadata": {},
   "outputs": [
    {
     "name": "stdout",
     "output_type": "stream",
     "text": [
      "The autoreload extension is already loaded. To reload it, use:\n",
      "  %reload_ext autoreload\n",
      "env: JAX_PLATFORM_NAME=cpu\n",
      "The jaxtyping extension is already loaded. To reload it, use:\n",
      "  %reload_ext jaxtyping\n"
     ]
    }
   ],
   "source": [
    "%load_ext autoreload\n",
    "%reload_ext autoreload\n",
    "%env JAX_PLATFORM_NAME=cpu\n",
    "\n",
    "import jaxtyping  # noqa: F401\n",
    "\n",
    "%load_ext jaxtyping\n",
    "%jaxtyping.typechecker beartype.beartype"
   ]
  },
  {
   "cell_type": "code",
   "execution_count": 15,
   "metadata": {},
   "outputs": [],
   "source": [
    "import jax\n",
    "import jax.numpy as jnp\n",
    "import equinox as eqx\n",
    "import optax\n",
    "\n",
    "from sklearn.preprocessing import MinMaxScaler\n",
    "\n",
    "import matplotlib.pyplot as plt\n",
    "\n",
    "from jaxtyping import Float, Array\n",
    "\n",
    "from n3.architecture.controller import StandardController, ControllerLike\n",
    "from n3.architecture.model import N3, ModelLike\n",
    "from n3.data import bessel\n",
    "\n",
    "from n3.utils.utils import grad_norm"
   ]
  },
  {
   "cell_type": "markdown",
   "metadata": {},
   "source": [
    "### Config"
   ]
  },
  {
   "cell_type": "code",
   "execution_count": 16,
   "metadata": {},
   "outputs": [],
   "source": [
    "n_samples = 2**15\n",
    "test_size = 0.1\n",
    "\n",
    "seed = 1\n",
    "key = jax.random.PRNGKey(seed)\n",
    "N_max = 10  # per layer max number of neurons\n",
    "size_influence = 100.0\n",
    "epochs = 20_000\n",
    "print_every = 100"
   ]
  },
  {
   "cell_type": "markdown",
   "metadata": {},
   "source": [
    "### Dataset"
   ]
  },
  {
   "cell_type": "code",
   "execution_count": 17,
   "metadata": {},
   "outputs": [],
   "source": [
    "x_train, x_test, y_train, y_test = bessel.generate_simple_data(\n",
    "    n_samples=n_samples,\n",
    "    test_size=test_size,\n",
    "    scaler=MinMaxScaler(feature_range=(-1, 1)),\n",
    "    seed=seed,\n",
    ")"
   ]
  },
  {
   "cell_type": "code",
   "execution_count": 18,
   "metadata": {},
   "outputs": [
    {
     "data": {
      "text/plain": [
       "<matplotlib.legend.Legend at 0x28be6e7e210>"
      ]
     },
     "execution_count": 18,
     "metadata": {},
     "output_type": "execute_result"
    },
    {
     "data": {
      "image/png": "[encoded data removed]",
      "text/plain": [
       "<Figure size 640x480 with 1 Axes>"
      ]
     },
     "metadata": {},
     "output_type": "display_data"
    }
   ],
   "source": [
    "plt.plot(x_train, y_train, \"k.\", alpha=0.5, label=f\"train:{len(x_train)}\")\n",
    "plt.plot(x_test, y_test, \"r.\", alpha=0.3, label=f\"test:{len(x_test)}\")\n",
    "plt.legend()"
   ]
  },
  {
   "cell_type": "markdown",
   "metadata": {},
   "source": [
    "### Training scheme"
   ]
  },
  {
   "cell_type": "code",
   "execution_count": 19,
   "metadata": {},
   "outputs": [],
   "source": [
    "def compute_base_loss(\n",
    "    model: ModelLike,\n",
    "    control: ControllerLike,\n",
    "    x: Float[Array, \"batch 1\"],\n",
    "    y: Float[Array, \"batch 1\"],\n",
    ") -> Float[Array, \"\"]:\n",
    "    pred = jax.vmap(model, in_axes=(0, None))(x, control)\n",
    "    return jnp.mean((pred - y) ** 2)"
   ]
  },
  {
   "cell_type": "code",
   "execution_count": 20,
   "metadata": {},
   "outputs": [],
   "source": [
    "def compute_size_loss(\n",
    "    controller: ControllerLike, size_influence: float\n",
    ") -> Float[Array, \"\"]:\n",
    "    N = controller(jnp.ones((1,)))\n",
    "    return size_influence * jnp.mean((N - 1.0) ** 2)"
   ]
  },
  {
   "cell_type": "code",
   "execution_count": 21,
   "metadata": {},
   "outputs": [],
   "source": [
    "@eqx.filter_jit\n",
    "def make_step(\n",
    "    model: ModelLike,\n",
    "    controller: ControllerLike,\n",
    "    size_influence: float,\n",
    "    x: Float[Array, \"batch 1\"],\n",
    "    y: Float[Array, \"batch 1\"],\n",
    "    optim: optax.GradientTransformation,\n",
    "    opt_state: optax.OptState,\n",
    ") -> tuple[Float[Array, \"\"], ModelLike, ControllerLike, optax.OptState]:\n",
    "    loss_base, grads_base = eqx.filter_value_and_grad(compute_base_loss)(\n",
    "        model, controller, x, y\n",
    "    )\n",
    "    loss_size, grads_size = eqx.filter_value_and_grad(compute_size_loss)(\n",
    "        controller, size_influence\n",
    "    )\n",
    "    loss = loss_base + loss_size\n",
    "\n",
    "    updates, opt_state = optim.update([grads_base, grads_size], opt_state)\n",
    "\n",
    "    model = eqx.apply_updates(model, updates[0])  # type: ignore\n",
    "    controller = eqx.apply_updates(controller, updates[1])  # type: ignore\n",
    "    return loss, model, controller, opt_state"
   ]
  },
  {
   "cell_type": "code",
   "execution_count": 22,
   "metadata": {},
   "outputs": [],
   "source": [
    "@eqx.filter_jit\n",
    "def test_step(\n",
    "    model: ModelLike,\n",
    "    controller: ControllerLike,\n",
    "    x: Float[Array, \"batch 1\"],\n",
    "    y: Float[Array, \"batch 1\"],\n",
    ") -> Float[Array, \"\"]:\n",
    "    return compute_base_loss(model, controller, x, y) + compute_size_loss(\n",
    "        controller, size_influence\n",
    "    )"
   ]
  },
  {
   "cell_type": "code",
   "execution_count": 23,
   "metadata": {},
   "outputs": [],
   "source": [
    "model_key, control_key = jax.random.split(key)\n",
    "n3 = N3(1, 1, [N_max], model_key)\n",
    "control = StandardController(1, control_key)\n",
    "\n",
    "optim = optax.sgd(learning_rate=1e-3)\n",
    "opt_state = optim.init(eqx.filter([n3, control], eqx.is_inexact_array))"
   ]
  },
  {
   "cell_type": "code",
   "execution_count": 24,
   "metadata": {},
   "outputs": [
    {
     "name": "stdout",
     "output_type": "stream",
     "text": [
      "epoch: 0, train_loss: 1.0038e+02, test_loss: 6.4364e+01 control: 1.9999e-01\n",
      "Control_grad_norm: 1.6000e+02\n",
      "epoch: 100, train_loss: 2.8751e-01, test_loss: 2.8315e-01 control: 1.0000e+00\n",
      "Control_grad_norm: 2.3842e-05\n",
      "epoch: 200, train_loss: 2.3604e-01, test_loss: 2.3208e-01 control: 1.0000e+00\n",
      "Control_grad_norm: 2.3842e-05\n",
      "epoch: 300, train_loss: 1.9346e-01, test_loss: 1.8995e-01 control: 1.0000e+00\n",
      "Control_grad_norm: 2.3842e-05\n",
      "epoch: 400, train_loss: 1.5804e-01, test_loss: 1.5498e-01 control: 1.0000e+00\n",
      "Control_grad_norm: 2.3842e-05\n",
      "epoch: 500, train_loss: 1.2858e-01, test_loss: 1.2595e-01 control: 1.0000e+00\n",
      "Control_grad_norm: 2.3842e-05\n",
      "epoch: 600, train_loss: 1.0418e-01, test_loss: 1.0192e-01 control: 1.0000e+00\n",
      "Control_grad_norm: 2.3842e-05\n",
      "epoch: 700, train_loss: 8.4085e-02, test_loss: 8.2151e-02 control: 1.0000e+00\n",
      "Control_grad_norm: 2.3842e-05\n",
      "epoch: 800, train_loss: 6.7639e-02, test_loss: 6.5989e-02 control: 1.0000e+00\n",
      "Control_grad_norm: 2.3842e-05\n",
      "epoch: 900, train_loss: 5.4281e-02, test_loss: 5.2873e-02 control: 1.0000e+00\n",
      "Control_grad_norm: 2.3842e-05\n",
      "epoch: 1000, train_loss: 4.3512e-02, test_loss: 4.2310e-02 control: 1.0000e+00\n",
      "Control_grad_norm: 2.3842e-05\n",
      "epoch: 1100, train_loss: 3.4893e-02, test_loss: 3.3866e-02 control: 1.0000e+00\n",
      "Control_grad_norm: 2.3842e-05\n",
      "epoch: 1200, train_loss: 2.8043e-02, test_loss: 2.7164e-02 control: 1.0000e+00\n",
      "Control_grad_norm: 2.3842e-05\n",
      "epoch: 1300, train_loss: 2.2635e-02, test_loss: 2.1881e-02 control: 1.0000e+00\n",
      "Control_grad_norm: 2.3842e-05\n",
      "epoch: 1400, train_loss: 1.8392e-02, test_loss: 1.7742e-02 control: 1.0000e+00\n",
      "Control_grad_norm: 2.3842e-05\n",
      "epoch: 1500, train_loss: 1.5079e-02, test_loss: 1.4517e-02 control: 1.0000e+00\n",
      "Control_grad_norm: 2.3842e-05\n",
      "epoch: 1600, train_loss: 1.2506e-02, test_loss: 1.2018e-02 control: 1.0000e+00\n",
      "Control_grad_norm: 2.3842e-05\n",
      "epoch: 1700, train_loss: 1.0516e-02, test_loss: 1.0089e-02 control: 1.0000e+00\n",
      "Control_grad_norm: 2.3842e-05\n",
      "epoch: 1800, train_loss: 8.9810e-03, test_loss: 8.6067e-03 control: 1.0000e+00\n",
      "Control_grad_norm: 2.3842e-05\n",
      "epoch: 1900, train_loss: 7.8011e-03, test_loss: 7.4705e-03 control: 1.0000e+00\n",
      "Control_grad_norm: 2.3842e-05\n",
      "epoch: 2000, train_loss: 6.8957e-03, test_loss: 6.6019e-03 control: 1.0000e+00\n",
      "Control_grad_norm: 2.3842e-05\n",
      "epoch: 2100, train_loss: 6.2016e-03, test_loss: 5.9389e-03 control: 1.0000e+00\n",
      "Control_grad_norm: 2.3842e-05\n",
      "epoch: 2200, train_loss: 5.6697e-03, test_loss: 5.4332e-03 control: 1.0000e+00\n",
      "Control_grad_norm: 2.3842e-05\n",
      "epoch: 2300, train_loss: 5.2617e-03, test_loss: 5.0473e-03 control: 1.0000e+00\n",
      "Control_grad_norm: 2.3842e-05\n",
      "epoch: 2400, train_loss: 4.9481e-03, test_loss: 4.7525e-03 control: 1.0000e+00\n",
      "Control_grad_norm: 2.3842e-05\n",
      "epoch: 2500, train_loss: 4.7061e-03, test_loss: 4.5266e-03 control: 1.0000e+00\n",
      "Control_grad_norm: 2.3842e-05\n",
      "epoch: 2600, train_loss: 4.5185e-03, test_loss: 4.3526e-03 control: 1.0000e+00\n",
      "Control_grad_norm: 2.3842e-05\n",
      "epoch: 2700, train_loss: 4.3721e-03, test_loss: 4.2178e-03 control: 1.0000e+00\n",
      "Control_grad_norm: 2.3842e-05\n",
      "epoch: 2800, train_loss: 4.2566e-03, test_loss: 4.1123e-03 control: 1.0000e+00\n",
      "Control_grad_norm: 2.3842e-05\n",
      "epoch: 2900, train_loss: 4.1646e-03, test_loss: 4.0288e-03 control: 1.0000e+00\n",
      "Control_grad_norm: 2.3842e-05\n",
      "epoch: 3000, train_loss: 4.0903e-03, test_loss: 3.9617e-03 control: 1.0000e+00\n",
      "Control_grad_norm: 2.3842e-05\n",
      "epoch: 3100, train_loss: 4.0292e-03, test_loss: 3.9069e-03 control: 1.0000e+00\n",
      "Control_grad_norm: 2.3842e-05\n",
      "epoch: 3200, train_loss: 3.9781e-03, test_loss: 3.8613e-03 control: 1.0000e+00\n",
      "Control_grad_norm: 2.3842e-05\n",
      "epoch: 3300, train_loss: 3.9346e-03, test_loss: 3.8224e-03 control: 1.0000e+00\n",
      "Control_grad_norm: 2.3842e-05\n",
      "epoch: 3400, train_loss: 3.8968e-03, test_loss: 3.7886e-03 control: 1.0000e+00\n",
      "Control_grad_norm: 2.3842e-05\n",
      "epoch: 3500, train_loss: 3.8632e-03, test_loss: 3.7586e-03 control: 1.0000e+00\n",
      "Control_grad_norm: 2.3842e-05\n",
      "epoch: 3600, train_loss: 3.8329e-03, test_loss: 3.7313e-03 control: 1.0000e+00\n",
      "Control_grad_norm: 2.3842e-05\n",
      "epoch: 3700, train_loss: 3.8050e-03, test_loss: 3.7061e-03 control: 1.0000e+00\n",
      "Control_grad_norm: 2.3842e-05\n",
      "epoch: 3800, train_loss: 3.7791e-03, test_loss: 3.6824e-03 control: 1.0000e+00\n",
      "Control_grad_norm: 2.3842e-05\n",
      "epoch: 3900, train_loss: 3.7545e-03, test_loss: 3.6599e-03 control: 1.0000e+00\n",
      "Control_grad_norm: 2.3842e-05\n",
      "epoch: 4000, train_loss: 3.7310e-03, test_loss: 3.6382e-03 control: 1.0000e+00\n",
      "Control_grad_norm: 2.3842e-05\n",
      "epoch: 4100, train_loss: 3.7084e-03, test_loss: 3.6172e-03 control: 1.0000e+00\n",
      "Control_grad_norm: 2.3842e-05\n",
      "epoch: 4200, train_loss: 3.6865e-03, test_loss: 3.5967e-03 control: 1.0000e+00\n",
      "Control_grad_norm: 2.3842e-05\n",
      "epoch: 4300, train_loss: 3.6651e-03, test_loss: 3.5765e-03 control: 1.0000e+00\n",
      "Control_grad_norm: 2.3842e-05\n",
      "epoch: 4400, train_loss: 3.6441e-03, test_loss: 3.5566e-03 control: 1.0000e+00\n",
      "Control_grad_norm: 2.3842e-05\n",
      "epoch: 4500, train_loss: 3.6235e-03, test_loss: 3.5370e-03 control: 1.0000e+00\n",
      "Control_grad_norm: 2.3842e-05\n",
      "epoch: 4600, train_loss: 3.6032e-03, test_loss: 3.5176e-03 control: 1.0000e+00\n",
      "Control_grad_norm: 2.3842e-05\n",
      "epoch: 4700, train_loss: 3.5831e-03, test_loss: 3.4983e-03 control: 1.0000e+00\n",
      "Control_grad_norm: 2.3842e-05\n",
      "epoch: 4800, train_loss: 3.5633e-03, test_loss: 3.4792e-03 control: 1.0000e+00\n",
      "Control_grad_norm: 2.3842e-05\n",
      "epoch: 4900, train_loss: 3.5436e-03, test_loss: 3.4602e-03 control: 1.0000e+00\n",
      "Control_grad_norm: 2.3842e-05\n",
      "epoch: 5000, train_loss: 3.5242e-03, test_loss: 3.4413e-03 control: 1.0000e+00\n",
      "Control_grad_norm: 2.3842e-05\n",
      "epoch: 5100, train_loss: 3.5048e-03, test_loss: 3.4226e-03 control: 1.0000e+00\n",
      "Control_grad_norm: 2.3842e-05\n",
      "epoch: 5200, train_loss: 3.4857e-03, test_loss: 3.4040e-03 control: 1.0000e+00\n",
      "Control_grad_norm: 2.3842e-05\n",
      "epoch: 5300, train_loss: 3.4667e-03, test_loss: 3.3855e-03 control: 1.0000e+00\n",
      "Control_grad_norm: 2.3842e-05\n",
      "epoch: 5400, train_loss: 3.4478e-03, test_loss: 3.3670e-03 control: 1.0000e+00\n",
      "Control_grad_norm: 2.3842e-05\n",
      "epoch: 5500, train_loss: 3.4291e-03, test_loss: 3.3487e-03 control: 1.0000e+00\n",
      "Control_grad_norm: 2.3842e-05\n",
      "epoch: 5600, train_loss: 3.4105e-03, test_loss: 3.3306e-03 control: 1.0000e+00\n",
      "Control_grad_norm: 2.3842e-05\n",
      "epoch: 5700, train_loss: 3.3920e-03, test_loss: 3.3125e-03 control: 1.0000e+00\n",
      "Control_grad_norm: 2.3842e-05\n",
      "epoch: 5800, train_loss: 3.3737e-03, test_loss: 3.2945e-03 control: 1.0000e+00\n",
      "Control_grad_norm: 2.3842e-05\n",
      "epoch: 5900, train_loss: 3.3554e-03, test_loss: 3.2766e-03 control: 1.0000e+00\n",
      "Control_grad_norm: 2.3842e-05\n",
      "epoch: 6000, train_loss: 3.3373e-03, test_loss: 3.2588e-03 control: 1.0000e+00\n",
      "Control_grad_norm: 2.3842e-05\n",
      "epoch: 6100, train_loss: 3.3193e-03, test_loss: 3.2412e-03 control: 1.0000e+00\n",
      "Control_grad_norm: 2.3842e-05\n",
      "epoch: 6200, train_loss: 3.3014e-03, test_loss: 3.2236e-03 control: 1.0000e+00\n",
      "Control_grad_norm: 2.3842e-05\n",
      "epoch: 6300, train_loss: 3.2836e-03, test_loss: 3.2061e-03 control: 1.0000e+00\n",
      "Control_grad_norm: 2.3842e-05\n",
      "epoch: 6400, train_loss: 3.2660e-03, test_loss: 3.1888e-03 control: 1.0000e+00\n",
      "Control_grad_norm: 2.3842e-05\n",
      "epoch: 6500, train_loss: 3.2484e-03, test_loss: 3.1715e-03 control: 1.0000e+00\n",
      "Control_grad_norm: 2.3842e-05\n",
      "epoch: 6600, train_loss: 3.2310e-03, test_loss: 3.1544e-03 control: 1.0000e+00\n",
      "Control_grad_norm: 2.3842e-05\n",
      "epoch: 6700, train_loss: 3.2137e-03, test_loss: 3.1374e-03 control: 1.0000e+00\n",
      "Control_grad_norm: 2.3842e-05\n",
      "epoch: 6800, train_loss: 3.1965e-03, test_loss: 3.1204e-03 control: 1.0000e+00\n",
      "Control_grad_norm: 2.3842e-05\n",
      "epoch: 6900, train_loss: 3.1794e-03, test_loss: 3.1036e-03 control: 1.0000e+00\n",
      "Control_grad_norm: 2.3842e-05\n",
      "epoch: 7000, train_loss: 3.1624e-03, test_loss: 3.0869e-03 control: 1.0000e+00\n",
      "Control_grad_norm: 2.3842e-05\n",
      "epoch: 7100, train_loss: 3.1455e-03, test_loss: 3.0703e-03 control: 1.0000e+00\n",
      "Control_grad_norm: 2.3842e-05\n",
      "epoch: 7200, train_loss: 3.1287e-03, test_loss: 3.0538e-03 control: 1.0000e+00\n",
      "Control_grad_norm: 2.3842e-05\n",
      "epoch: 7300, train_loss: 3.1120e-03, test_loss: 3.0373e-03 control: 1.0000e+00\n",
      "Control_grad_norm: 2.3842e-05\n",
      "epoch: 7400, train_loss: 3.0954e-03, test_loss: 3.0210e-03 control: 1.0000e+00\n",
      "Control_grad_norm: 2.3842e-05\n",
      "epoch: 7500, train_loss: 3.0790e-03, test_loss: 3.0048e-03 control: 1.0000e+00\n",
      "Control_grad_norm: 2.3842e-05\n",
      "epoch: 7600, train_loss: 3.0626e-03, test_loss: 2.9887e-03 control: 1.0000e+00\n",
      "Control_grad_norm: 2.3842e-05\n",
      "epoch: 7700, train_loss: 3.0463e-03, test_loss: 2.9727e-03 control: 1.0000e+00\n",
      "Control_grad_norm: 2.3842e-05\n",
      "epoch: 7800, train_loss: 3.0302e-03, test_loss: 2.9568e-03 control: 1.0000e+00\n",
      "Control_grad_norm: 2.3842e-05\n",
      "epoch: 7900, train_loss: 3.0141e-03, test_loss: 2.9410e-03 control: 1.0000e+00\n",
      "Control_grad_norm: 2.3842e-05\n",
      "epoch: 8000, train_loss: 2.9982e-03, test_loss: 2.9253e-03 control: 1.0000e+00\n",
      "Control_grad_norm: 2.3842e-05\n",
      "epoch: 8100, train_loss: 2.9823e-03, test_loss: 2.9097e-03 control: 1.0000e+00\n",
      "Control_grad_norm: 2.3842e-05\n",
      "epoch: 8200, train_loss: 2.9665e-03, test_loss: 2.8941e-03 control: 1.0000e+00\n",
      "Control_grad_norm: 2.3842e-05\n",
      "epoch: 8300, train_loss: 2.9509e-03, test_loss: 2.8787e-03 control: 1.0000e+00\n",
      "Control_grad_norm: 2.3842e-05\n",
      "epoch: 8400, train_loss: 2.9353e-03, test_loss: 2.8634e-03 control: 1.0000e+00\n",
      "Control_grad_norm: 2.3842e-05\n",
      "epoch: 8500, train_loss: 2.9199e-03, test_loss: 2.8482e-03 control: 1.0000e+00\n",
      "Control_grad_norm: 2.3842e-05\n",
      "epoch: 8600, train_loss: 2.9045e-03, test_loss: 2.8331e-03 control: 1.0000e+00\n",
      "Control_grad_norm: 2.3842e-05\n",
      "epoch: 8700, train_loss: 2.8892e-03, test_loss: 2.8180e-03 control: 1.0000e+00\n",
      "Control_grad_norm: 2.3842e-05\n",
      "epoch: 8800, train_loss: 2.8741e-03, test_loss: 2.8031e-03 control: 1.0000e+00\n",
      "Control_grad_norm: 2.3842e-05\n",
      "epoch: 8900, train_loss: 2.8590e-03, test_loss: 2.7882e-03 control: 1.0000e+00\n",
      "Control_grad_norm: 2.3842e-05\n",
      "epoch: 9000, train_loss: 2.8440e-03, test_loss: 2.7735e-03 control: 1.0000e+00\n",
      "Control_grad_norm: 2.3842e-05\n",
      "epoch: 9100, train_loss: 2.8291e-03, test_loss: 2.7588e-03 control: 1.0000e+00\n",
      "Control_grad_norm: 2.3842e-05\n",
      "epoch: 9200, train_loss: 2.8143e-03, test_loss: 2.7442e-03 control: 1.0000e+00\n",
      "Control_grad_norm: 2.3842e-05\n",
      "epoch: 9300, train_loss: 2.7996e-03, test_loss: 2.7298e-03 control: 1.0000e+00\n",
      "Control_grad_norm: 2.3842e-05\n",
      "epoch: 9400, train_loss: 2.7850e-03, test_loss: 2.7154e-03 control: 1.0000e+00\n",
      "Control_grad_norm: 2.3842e-05\n",
      "epoch: 9500, train_loss: 2.7704e-03, test_loss: 2.7011e-03 control: 1.0000e+00\n",
      "Control_grad_norm: 2.3842e-05\n",
      "epoch: 9600, train_loss: 2.7560e-03, test_loss: 2.6868e-03 control: 1.0000e+00\n",
      "Control_grad_norm: 2.3842e-05\n",
      "epoch: 9700, train_loss: 2.7416e-03, test_loss: 2.6727e-03 control: 1.0000e+00\n",
      "Control_grad_norm: 2.3842e-05\n",
      "epoch: 9800, train_loss: 2.7273e-03, test_loss: 2.6587e-03 control: 1.0000e+00\n",
      "Control_grad_norm: 2.3842e-05\n",
      "epoch: 9900, train_loss: 2.7132e-03, test_loss: 2.6447e-03 control: 1.0000e+00\n",
      "Control_grad_norm: 2.3842e-05\n",
      "epoch: 10000, train_loss: 2.6991e-03, test_loss: 2.6309e-03 control: 1.0000e+00\n",
      "Control_grad_norm: 2.3842e-05\n",
      "epoch: 10100, train_loss: 2.6851e-03, test_loss: 2.6171e-03 control: 1.0000e+00\n",
      "Control_grad_norm: 2.3842e-05\n",
      "epoch: 10200, train_loss: 2.6711e-03, test_loss: 2.6034e-03 control: 1.0000e+00\n",
      "Control_grad_norm: 2.3842e-05\n",
      "epoch: 10300, train_loss: 2.6573e-03, test_loss: 2.5898e-03 control: 1.0000e+00\n",
      "Control_grad_norm: 2.3842e-05\n",
      "epoch: 10400, train_loss: 2.6436e-03, test_loss: 2.5762e-03 control: 1.0000e+00\n",
      "Control_grad_norm: 2.3842e-05\n",
      "epoch: 10500, train_loss: 2.6299e-03, test_loss: 2.5628e-03 control: 1.0000e+00\n",
      "Control_grad_norm: 2.3842e-05\n",
      "epoch: 10600, train_loss: 2.6163e-03, test_loss: 2.5494e-03 control: 1.0000e+00\n",
      "Control_grad_norm: 2.3842e-05\n",
      "epoch: 10700, train_loss: 2.6028e-03, test_loss: 2.5361e-03 control: 1.0000e+00\n",
      "Control_grad_norm: 2.3842e-05\n",
      "epoch: 10800, train_loss: 2.5894e-03, test_loss: 2.5229e-03 control: 1.0000e+00\n",
      "Control_grad_norm: 2.3842e-05\n",
      "epoch: 10900, train_loss: 2.5761e-03, test_loss: 2.5098e-03 control: 1.0000e+00\n",
      "Control_grad_norm: 2.3842e-05\n",
      "epoch: 11000, train_loss: 2.5628e-03, test_loss: 2.4968e-03 control: 1.0000e+00\n",
      "Control_grad_norm: 2.3842e-05\n",
      "epoch: 11100, train_loss: 2.5496e-03, test_loss: 2.4838e-03 control: 1.0000e+00\n",
      "Control_grad_norm: 2.3842e-05\n",
      "epoch: 11200, train_loss: 2.5365e-03, test_loss: 2.4709e-03 control: 1.0000e+00\n",
      "Control_grad_norm: 2.3842e-05\n",
      "epoch: 11300, train_loss: 2.5235e-03, test_loss: 2.4581e-03 control: 1.0000e+00\n",
      "Control_grad_norm: 2.3842e-05\n"
     ]
    },
    {
     "ename": "KeyboardInterrupt",
     "evalue": "",
     "output_type": "error",
     "traceback": [
      "\u001b[31m---------------------------------------------------------------------------\u001b[39m",
      "\u001b[31mKeyboardInterrupt\u001b[39m                         Traceback (most recent call last)",
      "\u001b[36mCell\u001b[39m\u001b[36m \u001b[39m\u001b[32mIn[24]\u001b[39m\u001b[32m, line 9\u001b[39m\n\u001b[32m      6\u001b[39m control_grad_norms = []\n\u001b[32m      8\u001b[39m \u001b[38;5;28;01mfor\u001b[39;00m epoch \u001b[38;5;129;01min\u001b[39;00m \u001b[38;5;28mrange\u001b[39m(epochs):\n\u001b[32m----> \u001b[39m\u001b[32m9\u001b[39m     train_loss, n3, control, opt_state = \u001b[43mmake_step\u001b[49m\u001b[43m(\u001b[49m\n\u001b[32m     10\u001b[39m \u001b[43m        \u001b[49m\u001b[43mn3\u001b[49m\u001b[43m,\u001b[49m\u001b[43m \u001b[49m\u001b[43mcontrol\u001b[49m\u001b[43m,\u001b[49m\u001b[43m \u001b[49m\u001b[43msize_influence\u001b[49m\u001b[43m,\u001b[49m\u001b[43m \u001b[49m\u001b[43mx_train\u001b[49m\u001b[43m,\u001b[49m\u001b[43m \u001b[49m\u001b[43my_train\u001b[49m\u001b[43m,\u001b[49m\u001b[43m \u001b[49m\u001b[43moptim\u001b[49m\u001b[43m,\u001b[49m\u001b[43m \u001b[49m\u001b[43mopt_state\u001b[49m\n\u001b[32m     11\u001b[39m \u001b[43m    \u001b[49m\u001b[43m)\u001b[49m\n\u001b[32m     13\u001b[39m     \u001b[38;5;28;01mif\u001b[39;00m epoch % print_every == \u001b[32m0\u001b[39m:\n\u001b[32m     14\u001b[39m         epoch_list.append(epoch)\n",
      "    \u001b[31m[... skipping hidden 2 frame]\u001b[39m\n",
      "\u001b[36mFile \u001b[39m\u001b[32mc:\\Users\\matth\\git\\Growing Networks\\NAIL_Networks\\Lib\\site-packages\\equinox\\_jit.py:248\u001b[39m, in \u001b[36m_JitWrapper._call\u001b[39m\u001b[34m(self, is_lower, args, kwargs)\u001b[39m\n\u001b[32m    244\u001b[39m         marker, _, _ = out = \u001b[38;5;28mself\u001b[39m._cached(\n\u001b[32m    245\u001b[39m             dynamic_donate, dynamic_nodonate, static\n\u001b[32m    246\u001b[39m         )\n\u001b[32m    247\u001b[39m     \u001b[38;5;28;01mif\u001b[39;00m \u001b[38;5;129;01mnot\u001b[39;00m jitting:\n\u001b[32m--> \u001b[39m\u001b[32m248\u001b[39m         \u001b[43mmarker\u001b[49m\u001b[43m.\u001b[49m\u001b[43mblock_until_ready\u001b[49m\u001b[43m(\u001b[49m\u001b[43m)\u001b[49m\n\u001b[32m    249\u001b[39m \u001b[38;5;28;01mexcept\u001b[39;00m JaxRuntimeError \u001b[38;5;28;01mas\u001b[39;00m e:\n\u001b[32m    250\u001b[39m     \u001b[38;5;66;03m# Catch Equinox's runtime errors, and re-raise them with actually useful\u001b[39;00m\n\u001b[32m    251\u001b[39m     \u001b[38;5;66;03m# information. (By default XlaRuntimeError produces a lot of terrifying\u001b[39;00m\n\u001b[32m    252\u001b[39m     \u001b[38;5;66;03m# but useless information.)\u001b[39;00m\n\u001b[32m    253\u001b[39m     \u001b[38;5;28;01mif\u001b[39;00m (\n\u001b[32m    254\u001b[39m         last_msg \u001b[38;5;129;01mis\u001b[39;00m \u001b[38;5;129;01mnot\u001b[39;00m \u001b[38;5;28;01mNone\u001b[39;00m\n\u001b[32m    255\u001b[39m         \u001b[38;5;129;01mand\u001b[39;00m last_stack \u001b[38;5;129;01mis\u001b[39;00m \u001b[38;5;129;01mnot\u001b[39;00m \u001b[38;5;28;01mNone\u001b[39;00m\n\u001b[32m   (...)\u001b[39m\u001b[32m    260\u001b[39m         \u001b[38;5;66;03m# callback necessarily executed in the same interpreter as we are in\u001b[39;00m\n\u001b[32m    261\u001b[39m         \u001b[38;5;66;03m# here?\u001b[39;00m\n",
      "\u001b[31mKeyboardInterrupt\u001b[39m: "
     ]
    }
   ],
   "source": [
    "epoch_list = []\n",
    "test_losses = []\n",
    "train_losses = []\n",
    "controls = []\n",
    "base_grad_norms = []\n",
    "control_grad_norms = []\n",
    "\n",
    "for epoch in range(epochs):\n",
    "    train_loss, n3, control, opt_state = make_step(\n",
    "        n3, control, size_influence, x_train, y_train, optim, opt_state\n",
    "    )\n",
    "\n",
    "    if epoch % print_every == 0:\n",
    "        epoch_list.append(epoch)\n",
    "        test_loss = test_step(n3, control, x_test, y_test)\n",
    "\n",
    "        test_losses.append(test_loss)\n",
    "        train_losses.append(train_loss)\n",
    "        controls.append(control.params.item())\n",
    "        control_grad_norms.append(\n",
    "            grad_norm(eqx.filter_grad(compute_size_loss)(control, size_influence))\n",
    "        )\n",
    "        print(\n",
    "            f\"epoch: {epoch_list[-1]}, train_loss: {train_losses[-1]:.4e}, test_loss: {test_losses[-1]:.4e} control: {controls[-1]:.4e}\"\n",
    "        )\n",
    "        print(f\"Control_grad_norm: {control_grad_norms[-1]:.4e}\")"
   ]
  },
  {
   "cell_type": "code",
   "execution_count": 25,
   "metadata": {},
   "outputs": [
    {
     "data": {
      "image/png": "[encoded data removed]",
      "text/plain": [
       "<Figure size 640x480 with 2 Axes>"
      ]
     },
     "metadata": {},
     "output_type": "display_data"
    }
   ],
   "source": [
    "fig, ax1 = plt.subplots()\n",
    "\n",
    "# Plotting train and test losses\n",
    "ax1.plot(epoch_list, train_losses, \"b.\", label=\"Train Loss\")\n",
    "ax1.plot(epoch_list, test_losses, \"r.\", label=\"Test Loss\")\n",
    "ax1.set_xlabel(\"Epoch\")\n",
    "ax1.set_ylabel(\"Loss\", color=\"k\")\n",
    "ax1.set_yscale(\"log\")\n",
    "# ax1.set_xscale(\"log\")\n",
    "\n",
    "# Creating a second y-axis to plot control gradient norms\n",
    "ax2 = ax1.twinx()\n",
    "ax2.plot(\n",
    "    epoch_list, jnp.sin((jnp.pi / 2) * jnp.array(controls)) ** 2, \"g.\", label=\"C_norm\"\n",
    ")\n",
    "ax2.set_ylabel(\"Control\", color=\"g\")\n",
    "\n",
    "ax1.legend(loc=\"upper left\")\n",
    "ax2.legend(loc=\"upper right\")\n",
    "plt.show()"
   ]
  },
  {
   "cell_type": "code",
   "execution_count": 26,
   "metadata": {},
   "outputs": [
    {
     "data": {
      "text/plain": [
       "<matplotlib.legend.Legend at 0x28bea7c4410>"
      ]
     },
     "execution_count": 26,
     "metadata": {},
     "output_type": "execute_result"
    },
    {
     "data": {
      "image/png": "[encoded data removed]",
      "text/plain": [
       "<Figure size 640x480 with 1 Axes>"
      ]
     },
     "metadata": {},
     "output_type": "display_data"
    }
   ],
   "source": [
    "y_pred = jax.vmap(n3, in_axes=(0, None))(x_test, control)\n",
    "test_loss = jnp.mean((y_pred - y_test) ** 2)\n",
    "\n",
    "plt.plot(x_test, y_test, \"k.\", alpha=0.2, label=\"truth\")\n",
    "plt.plot(x_test, y_pred, \"r.\", alpha=0.2, label=f\"MSE: {test_loss: .4e}\")\n",
    "plt.legend()"
   ]
  },
  {
   "cell_type": "markdown",
   "metadata": {},
   "source": []
  }
 ],
 "metadata": {
  "kernelspec": {
   "display_name": "NAIL_Networks",
   "language": "python",
   "name": "python3"
  },
  "language_info": {
   "codemirror_mode": {
    "name": "ipython",
    "version": 3
   },
   "file_extension": ".py",
   "mimetype": "text/x-python",
   "name": "python",
   "nbconvert_exporter": "python",
   "pygments_lexer": "ipython3",
   "version": "3.13.1"
  }
 },
 "nbformat": 4,
 "nbformat_minor": 2
}
